{
 "cells": [
  {
   "cell_type": "code",
   "execution_count": 92,
   "metadata": {},
   "outputs": [],
   "source": [
    "import requests\n",
    "from bs4 import BeautifulSoup\n",
    "\n",
    "#/from browser : inspect / network tab / Headers = headers / Form Data = login_data\n",
    "with requests.Session() as s:\n",
    "    url = 'https://mars.nasa.gov/news/'\n",
    "    headers = {\"user-agent\" : \"your browser info here\"}\n",
    "    r = s.get(url, headers=headers)\n",
    "html = r.content.decode()"
   ]
  },
  {
   "cell_type": "code",
   "execution_count": 93,
   "metadata": {},
   "outputs": [
    {
     "name": "stdout",
     "output_type": "stream",
     "text": [
      "\n",
      "NASA's Curiosity Mars Rover Finds a Clay Cache\n",
      "\n",
      "\n",
      "The rover recently drilled two samples, and both showed the highest levels of clay ever found during the mission.\n",
      "\n"
     ]
    }
   ],
   "source": [
    "soup = BeautifulSoup(html, 'html.parser')\n",
    "nasa_news_header = soup.find('div', class_='content_title').find('a').text\n",
    "nasa_news_teaser = soup.find('div', class_='rollover_description_inner').text\n",
    "print(nasa_news_header)\n",
    "print(nasa_news_teaser)"
   ]
  },
  {
   "cell_type": "code",
   "execution_count": 94,
   "metadata": {},
   "outputs": [
    {
     "name": "stdout",
     "output_type": "stream",
     "text": [
      "https://www.jpl.nasa.gov/spaceimages/images/wallpaper/PIA17044-1920x1200.jpg\n"
     ]
    }
   ],
   "source": [
    "mars_images_url = 'https://www.jpl.nasa.gov/spaceimages/?search=&category=Mars'\n",
    "with requests.Session() as s:\n",
    "    r = s.get(mars_images_url)\n",
    "html2 = r.content.decode()\n",
    "\n",
    "soup = BeautifulSoup(html2, 'html.parser')\n",
    "\n",
    "mars_images_url  = soup.find('article')['style'].replace('background-image: url(','').replace(');', '')[1:-1]\n",
    "mars_images_url = 'https://www.jpl.nasa.gov' + mars_images_url\n",
    "\n",
    "print(mars_images_url)"
   ]
  },
  {
   "cell_type": "markdown",
   "metadata": {},
   "source": [
    "#### Weather in MARS"
   ]
  },
  {
   "cell_type": "code",
   "execution_count": 95,
   "metadata": {},
   "outputs": [
    {
     "name": "stdout",
     "output_type": "stream",
     "text": [
      "InSight sol 190 (2019-06-09) low -104.1ºC (-155.3ºF) high -22.5ºC (-8.5ºF)\n",
      "winds from the SSE at 4.6 m/s (10.3 mph) gusting to 16.6 m/s (37.1 mph)\n",
      "pressure at 7.60 hPapic.twitter.com/Z6vS1S8RJo\n"
     ]
    }
   ],
   "source": [
    "mars_weather_url = 'https://twitter.com/marswxreport?lang=en'\n",
    "with requests.Session() as s:\n",
    "    r = s.get(mars_weather_url)\n",
    "html3 = r.content.decode()\n",
    "\n",
    "soup = BeautifulSoup(html3)\n",
    "\n",
    "tweets = soup.find_all('div', class_='js-tweet-text-container')\n",
    "\n",
    "for tweet in tweets:\n",
    "    mars_weather = tweet.find('p').text\n",
    "    if 'Sol' and 'pressure' in weather:\n",
    "        print(mars_weather)\n",
    "        break\n",
    "    else:\n",
    "        pass"
   ]
  },
  {
   "cell_type": "markdown",
   "metadata": {},
   "source": [
    "#### Facts about  MARS"
   ]
  },
  {
   "cell_type": "code",
   "execution_count": 96,
   "metadata": {},
   "outputs": [
    {
     "data": {
      "text/html": [
       "<div>\n",
       "<style scoped>\n",
       "    .dataframe tbody tr th:only-of-type {\n",
       "        vertical-align: middle;\n",
       "    }\n",
       "\n",
       "    .dataframe tbody tr th {\n",
       "        vertical-align: top;\n",
       "    }\n",
       "\n",
       "    .dataframe thead th {\n",
       "        text-align: right;\n",
       "    }\n",
       "</style>\n",
       "<table border=\"1\" class=\"dataframe\">\n",
       "  <thead>\n",
       "    <tr style=\"text-align: right;\">\n",
       "      <th></th>\n",
       "      <th>Description</th>\n",
       "      <th>Value</th>\n",
       "    </tr>\n",
       "  </thead>\n",
       "  <tbody>\n",
       "    <tr>\n",
       "      <th>0</th>\n",
       "      <td>Equatorial Diameter:</td>\n",
       "      <td>6,792 km</td>\n",
       "    </tr>\n",
       "    <tr>\n",
       "      <th>1</th>\n",
       "      <td>Polar Diameter:</td>\n",
       "      <td>6,752 km</td>\n",
       "    </tr>\n",
       "    <tr>\n",
       "      <th>2</th>\n",
       "      <td>Mass:</td>\n",
       "      <td>6.42 x 10^23 kg (10.7% Earth)</td>\n",
       "    </tr>\n",
       "    <tr>\n",
       "      <th>3</th>\n",
       "      <td>Moons:</td>\n",
       "      <td>2 (Phobos &amp; Deimos)</td>\n",
       "    </tr>\n",
       "    <tr>\n",
       "      <th>4</th>\n",
       "      <td>Orbit Distance:</td>\n",
       "      <td>227,943,824 km (1.52 AU)</td>\n",
       "    </tr>\n",
       "    <tr>\n",
       "      <th>5</th>\n",
       "      <td>Orbit Period:</td>\n",
       "      <td>687 days (1.9 years)</td>\n",
       "    </tr>\n",
       "    <tr>\n",
       "      <th>6</th>\n",
       "      <td>Surface Temperature:</td>\n",
       "      <td>-153 to 20 °C</td>\n",
       "    </tr>\n",
       "    <tr>\n",
       "      <th>7</th>\n",
       "      <td>First Record:</td>\n",
       "      <td>2nd millennium BC</td>\n",
       "    </tr>\n",
       "    <tr>\n",
       "      <th>8</th>\n",
       "      <td>Recorded By:</td>\n",
       "      <td>Egyptian astronomers</td>\n",
       "    </tr>\n",
       "  </tbody>\n",
       "</table>\n",
       "</div>"
      ],
      "text/plain": [
       "            Description                          Value\n",
       "0  Equatorial Diameter:                       6,792 km\n",
       "1       Polar Diameter:                       6,752 km\n",
       "2                 Mass:  6.42 x 10^23 kg (10.7% Earth)\n",
       "3                Moons:            2 (Phobos & Deimos)\n",
       "4       Orbit Distance:       227,943,824 km (1.52 AU)\n",
       "5         Orbit Period:           687 days (1.9 years)\n",
       "6  Surface Temperature:                  -153 to 20 °C\n",
       "7         First Record:              2nd millennium BC\n",
       "8          Recorded By:           Egyptian astronomers"
      ]
     },
     "execution_count": 96,
     "metadata": {},
     "output_type": "execute_result"
    }
   ],
   "source": [
    "import lxml\n",
    "import pandas as pd\n",
    "\n",
    "mars_facts_url = 'http://space-facts.com/mars/'\n",
    "mars_facts = pd.read_html(mars_facts_url)\n",
    "mars_facts_df = mars_facts[0]\n",
    "mars_facts_df.columns = ['Description','Value']\n",
    "mars_facts_df.set_index('Description', inplace=True)\n",
    "mars_facts_df.to_html()\n",
    "\n",
    "mars_facts_df2 = mars_facts_df.reset_index()\n",
    "headers = list(mars_facts_df2[\"Description\"])\n",
    "values = list(mars_facts_df2[\"Value\"])\n",
    "\n",
    "headers2 =[]\n",
    "for i in headers:\n",
    "    x=(i[:-1])\n",
    "    headers2.append(x)\n",
    "    \n",
    "mars_dictionary = {}\n",
    "for i in range(len(headers)):\n",
    "    mars_dictionary[headers2[i]] = values[i]\n",
    "\n",
    "mars_facts_df2"
   ]
  },
  {
   "cell_type": "markdown",
   "metadata": {},
   "source": [
    "#### Hemispheres of MARS"
   ]
  },
  {
   "cell_type": "code",
   "execution_count": 97,
   "metadata": {},
   "outputs": [],
   "source": [
    "hemispheres_url = 'https://astrogeology.usgs.gov/search/results?q=hemisphere+enhanced&k1=target&v1=Mars'\n",
    "with requests.Session() as s:\n",
    "    r = s.get(hemispheres_url)\n",
    "html3 = r.content.decode()\n",
    "\n",
    "soup = BeautifulSoup(html3, 'html.parser')\n",
    "\n",
    "items = soup.find_all('div', class_='item')\n",
    "\n",
    "hemisphere_image_urls = []\n",
    "hemispheres_main_url = 'https://astrogeology.usgs.gov'\n",
    "\n",
    "for item in items: \n",
    "    title = item.find('h3').text\n",
    "    \n",
    "    img_url = item.find('a', class_='itemLink product-item')['href']\n",
    "    img_html = s.get(hemispheres_main_url + img_url).content.decode()\n",
    "    \n",
    "    soup = BeautifulSoup( img_html, 'html.parser')\n",
    "    \n",
    "    img_url = hemispheres_main_url + soup.find('img', class_='wide-image')['src']\n",
    "    \n",
    "    hemisphere_image_urls.append({\"title\" : title, \"img_url\" : img_url})"
   ]
  },
  {
   "cell_type": "code",
   "execution_count": 98,
   "metadata": {},
   "outputs": [
    {
     "name": "stdout",
     "output_type": "stream",
     "text": [
      "Cerberus Hemisphere Enhanced\n",
      "https://astrogeology.usgs.gov/cache/images/cfa62af2557222a02478f1fcd781d445_cerberus_enhanced.tif_full.jpg\n",
      "\n",
      "\n",
      "Schiaparelli Hemisphere Enhanced\n",
      "https://astrogeology.usgs.gov/cache/images/3cdd1cbf5e0813bba925c9030d13b62e_schiaparelli_enhanced.tif_full.jpg\n",
      "\n",
      "\n",
      "Syrtis Major Hemisphere Enhanced\n",
      "https://astrogeology.usgs.gov/cache/images/ae209b4e408bb6c3e67b6af38168cf28_syrtis_major_enhanced.tif_full.jpg\n",
      "\n",
      "\n",
      "Valles Marineris Hemisphere Enhanced\n",
      "https://astrogeology.usgs.gov/cache/images/7cf2da4bf549ed01c17f206327be4db7_valles_marineris_enhanced.tif_full.jpg\n",
      "\n",
      "\n"
     ]
    }
   ],
   "source": [
    "for i in range(0,4):\n",
    "    print(hemisphere_image_urls[i][\"title\"])\n",
    "    print(hemisphere_image_urls[i][\"img_url\"])\n",
    "    print(\"\\n\")"
   ]
  },
  {
   "cell_type": "code",
   "execution_count": 108,
   "metadata": {},
   "outputs": [],
   "source": [
    "mars_data = {}\n",
    "mars_data[\"data\"] = mars_dictionary\n",
    "mars_data[\"hemisphere_image_urls\"] = hemisphere_image_urls\n",
    "mars_data[\"mars_weather\"] = mars_weather\n",
    "mars_data[\"mars_images_url\"] = mars_images_url\n",
    "mars_data[\"nasa_news_header\"] = nasa_news_header\n",
    "mars_data[\"nasa_news_teaser\"] = nasa_news_teaser"
   ]
  }
 ],
 "metadata": {
  "kernelspec": {
   "display_name": "Python 3",
   "language": "python",
   "name": "python3"
  },
  "language_info": {
   "codemirror_mode": {
    "name": "ipython",
    "version": 3
   },
   "file_extension": ".py",
   "mimetype": "text/x-python",
   "name": "python",
   "nbconvert_exporter": "python",
   "pygments_lexer": "ipython3",
   "version": "3.7.3"
  }
 },
 "nbformat": 4,
 "nbformat_minor": 2
}
